{
 "cells": [
  {
   "cell_type": "markdown",
   "id": "bec82c0c-f792-4cda-bfb5-faf213038e06",
   "metadata": {},
   "source": [
    "## Names scores\n",
    "\n",
    "<p>Using <a href=\"project/resources/p022_names.txt\">names.txt</a> (right click and 'Save Link/Target As...'), a 46K text file containing over five-thousand first names, begin by sorting it into alphabetical order. Then working out the alphabetical value for each name, multiply this value by its alphabetical position in the list to obtain a name score.</p>\n",
    "<p>For example, when the list is sorted into alphabetical order, COLIN, which is worth 3 + 15 + 12 + 9 + 14 = 53, is the 938th name in the list. So, COLIN would obtain a score of 938 × 53 = 49714.</p>\n",
    "<p>What is the total of all the name scores in the file?</p>\n"
   ]
  },
  {
   "cell_type": "code",
   "execution_count": 46,
   "id": "4a99dd8c-ed39-4de3-84fd-0bb247b445c4",
   "metadata": {},
   "outputs": [],
   "source": [
    "f = open(\"names.txt\", \"r\", encoding=\"utf-8\")\n",
    "text = f.read()\n",
    "f.close()   \n",
    "\n",
    "text = text.split(\",\")\n",
    "newtext = []\n",
    "for name in text:\n",
    "    name = name.strip('\"')\n",
    "    newtext.append(name)"
   ]
  },
  {
   "cell_type": "code",
   "execution_count": 51,
   "id": "fe545192-89ac-4ca1-af20-39ad7cf12d27",
   "metadata": {},
   "outputs": [],
   "source": [
    "newtext = sorted(newtext)\n",
    "alp_dict = dict(zip(\"ABCDEFGHIJKLMNOPQRSTUVWXYZ\", range(1,27)))"
   ]
  },
  {
   "cell_type": "code",
   "execution_count": 52,
   "id": "8d46834d-c759-45ff-af5c-69540e1b10e6",
   "metadata": {},
   "outputs": [
    {
     "name": "stdout",
     "output_type": "stream",
     "text": [
      "871198282\n"
     ]
    }
   ],
   "source": [
    "n = 1\n",
    "s = 0\n",
    "for name in newtext:\n",
    "    ss = 0\n",
    "    for letter in name:\n",
    "        ss += alp_dict[letter]\n",
    "    s += ss*n\n",
    "    n += 1\n",
    "    \n",
    "print(s)"
   ]
  },
  {
   "cell_type": "markdown",
   "id": "4f57c22a-7947-466d-9195-8fd7f8ccc0e7",
   "metadata": {},
   "source": [
    "## Largest product in a grid\n",
    "\n",
    "<p>In the 20×20 grid below, four numbers along a diagonal line have been marked in red.</p>\n",
    "<p class=\"monospace center\">\n",
    "08 02 22 97 38 15 00 40 00 75 04 05 07 78 52 12 50 77 91 08<br />\n",
    "49 49 99 40 17 81 18 57 60 87 17 40 98 43 69 48 04 56 62 00<br />\n",
    "81 49 31 73 55 79 14 29 93 71 40 67 53 88 30 03 49 13 36 65<br />\n",
    "52 70 95 23 04 60 11 42 69 24 68 56 01 32 56 71 37 02 36 91<br />\n",
    "22 31 16 71 51 67 63 89 41 92 36 54 22 40 40 28 66 33 13 80<br />\n",
    "24 47 32 60 99 03 45 02 44 75 33 53 78 36 84 20 35 17 12 50<br />\n",
    "32 98 81 28 64 23 67 10 <span class=\"red\"><b>26</b></span> 38 40 67 59 54 70 66 18 38 64 70<br />\n",
    "67 26 20 68 02 62 12 20 95 <span class=\"red\"><b>63</b></span> 94 39 63 08 40 91 66 49 94 21<br />\n",
    "24 55 58 05 66 73 99 26 97 17 <span class=\"red\"><b>78</b></span> 78 96 83 14 88 34 89 63 72<br />\n",
    "21 36 23 09 75 00 76 44 20 45 35 <span class=\"red\"><b>14</b></span> 00 61 33 97 34 31 33 95<br />\n",
    "78 17 53 28 22 75 31 67 15 94 03 80 04 62 16 14 09 53 56 92<br />\n",
    "16 39 05 42 96 35 31 47 55 58 88 24 00 17 54 24 36 29 85 57<br />\n",
    "86 56 00 48 35 71 89 07 05 44 44 37 44 60 21 58 51 54 17 58<br />\n",
    "19 80 81 68 05 94 47 69 28 73 92 13 86 52 17 77 04 89 55 40<br />\n",
    "04 52 08 83 97 35 99 16 07 97 57 32 16 26 26 79 33 27 98 66<br />\n",
    "88 36 68 87 57 62 20 72 03 46 33 67 46 55 12 32 63 93 53 69<br />\n",
    "04 42 16 73 38 25 39 11 24 94 72 18 08 46 29 32 40 62 76 36<br />\n",
    "20 69 36 41 72 30 23 88 34 62 99 69 82 67 59 85 74 04 36 16<br />\n",
    "20 73 35 29 78 31 90 01 74 31 49 71 48 86 81 16 23 57 05 54<br />\n",
    "01 70 54 71 83 51 54 69 16 92 33 48 61 43 52 01 89 19 67 48<br /></p>\n",
    "<p>The product of these numbers is 26 × 63 × 78 × 14 = 1788696.</p>\n",
    "<p>What is the greatest product of four adjacent numbers in the same direction (up, down, left, right, or diagonally) in the 20×20 grid?</p>\n"
   ]
  },
  {
   "cell_type": "code",
   "execution_count": 54,
   "id": "5cdabc63-ae7e-413f-94de-276cabe68b3f",
   "metadata": {},
   "outputs": [
    {
     "name": "stdout",
     "output_type": "stream",
     "text": [
      "70600674\n"
     ]
    }
   ],
   "source": [
    "matrix = [\n",
    "[8, 2, 22, 97, 38, 15, 0, 40, 0, 75, 4, 5, 7, 78, 52, 12, 50, 77, 91, 8],\n",
    "[49, 49, 99, 40, 17, 81, 18, 57, 60, 87, 17, 40, 98, 43, 69, 48, 4, 56, 62, 0],\n",
    "[81, 49, 31, 73, 55, 79, 14, 29, 93, 71, 40, 67, 53, 88, 30, 3, 49, 13, 36, 65],\n",
    "[52, 70, 95, 23, 4, 60, 11, 42, 69, 24, 68, 56, 1, 32, 56, 71, 37, 2, 36, 91],\n",
    "[22, 31, 16, 71, 51, 67, 63, 89, 41, 92, 36, 54, 22, 40, 40, 28, 66, 33, 13, 80],\n",
    "[24, 47, 32, 60, 99, 3, 45, 2, 44, 75, 33, 53, 78, 36, 84, 20, 35, 17, 12, 50],\n",
    "[32, 98, 81, 28, 64, 23, 67, 10, 26, 38, 40, 67, 59, 54, 70, 66, 18, 38, 64, 70],\n",
    "[67, 26, 20, 68, 2, 62, 12, 20, 95, 63, 94, 39, 63, 8, 40, 91, 66, 49, 94, 21],\n",
    "[24, 55, 58, 5, 66, 73, 99, 26, 97, 17, 78, 78, 96, 83, 14, 88, 34, 89, 63, 72],\n",
    "[21, 36, 23, 9, 75, 0, 76, 44, 20, 45, 35, 14, 0, 61, 33, 97, 34, 31, 33, 95],\n",
    "[78, 17, 53, 28, 22, 75, 31, 67, 15, 94, 3, 80, 4, 62, 16, 14, 9, 53, 56, 92],\n",
    "[16, 39, 5, 42, 96, 35, 31, 47, 55, 58, 88, 24, 0, 17, 54, 24, 36, 29, 85, 57],\n",
    "[86, 56, 0, 48, 35, 71, 89, 7, 5, 44, 44, 37, 44, 60, 21, 58, 51, 54, 17, 58],\n",
    "[19, 80, 81, 68, 5, 94, 47, 69, 28, 73, 92, 13, 86, 52, 17, 77, 4, 89, 55, 40],\n",
    "[4, 52, 8, 83, 97, 35, 99, 16, 7, 97, 57, 32, 16, 26, 26, 79, 33, 27, 98, 66],\n",
    "[88, 36, 68, 87, 57, 62, 20, 72, 3, 46, 33, 67, 46, 55, 12, 32, 63, 93, 53, 69],\n",
    "[4, 42, 16, 73, 38, 25, 39, 11, 24, 94, 72, 18, 8, 46, 29, 32, 40, 62, 76, 36],\n",
    "[20, 69, 36, 41, 72, 30, 23, 88, 34, 62, 99, 69, 82, 67, 59, 85, 74, 4, 36, 16],\n",
    "[20, 73, 35, 29, 78, 31, 90, 1, 74, 31, 49, 71, 48, 86, 81, 16, 23, 57, 5, 54],\n",
    "[1, 70, 54, 71, 83, 51, 54, 69, 16, 92, 33, 48, 61, 43, 52, 1, 89, 19, 67, 48]\n",
    "]\n",
    "\n",
    "prod = 0\n",
    "for i in range(20):\n",
    "    for j in range(17):\n",
    "        tmp1 = matrix[i][j]*matrix[i][j+1]*matrix[i][j+2]*matrix[i][j+3]\n",
    "        prod = max(prod, tmp1)\n",
    "    \n",
    "for i in range(17):\n",
    "    for j in range(17):\n",
    "        tmp2 = matrix[i][j]*matrix[i+1][j+1]*matrix[i+2][j+2]*matrix[i+2][j+3]\n",
    "        prod = max(prod, tmp2)     \n",
    "    for j in range(20):\n",
    "        tmp3 = matrix[i][j]*matrix[i+1][j]*matrix[i+2][j]*matrix[i+3][j]\n",
    "        prod = max(prod, tmp3)\n",
    "    for j in range(19,2,-1):\n",
    "        tmp4 = matrix[i][j]*matrix[i+1][j-1]*matrix[i+2][j-2]*matrix[i+3][j-3]\n",
    "        prod = max(prod, tmp4)\n",
    "print(prod)"
   ]
  },
  {
   "cell_type": "markdown",
   "id": "ddfa1a85-982a-4658-bfde-ce54c5283b68",
   "metadata": {},
   "source": [
    "## Distinct powers\n",
    "\n",
    "<p>Consider all integer combinations of <i>a</i><sup><i>b</i></sup> for 2 ≤ <i>a</i> ≤ 5 and 2 ≤ <i>b</i> ≤ 5:</p>\n",
    "<blockquote>2<sup>2</sup>=4, 2<sup>3</sup>=8, 2<sup>4</sup>=16, 2<sup>5</sup>=32<br />\n",
    "3<sup>2</sup>=9, 3<sup>3</sup>=27, 3<sup>4</sup>=81, 3<sup>5</sup>=243<br />\n",
    "4<sup>2</sup>=16, 4<sup>3</sup>=64, 4<sup>4</sup>=256, 4<sup>5</sup>=1024<br />\n",
    "5<sup>2</sup>=25, 5<sup>3</sup>=125, 5<sup>4</sup>=625, 5<sup>5</sup>=3125<br /></blockquote>\n",
    "<p>If they are then placed in numerical order, with any repeats removed, we get the following sequence of 15 distinct terms:</p>\n",
    "<p class=\"center\">4, 8, 9, 16, 25, 27, 32, 64, 81, 125, 243, 256, 625, 1024, 3125</p>\n",
    "<p>How many distinct terms are in the sequence generated by <i>a</i><sup><i>b</i></sup> for 2 ≤ <i>a</i> ≤ 100 and 2 ≤ <i>b</i> ≤ 100?</p>\n"
   ]
  },
  {
   "cell_type": "code",
   "execution_count": 55,
   "id": "49fb1f2e-0be4-4014-9f31-d73d2b043c0c",
   "metadata": {},
   "outputs": [
    {
     "name": "stdout",
     "output_type": "stream",
     "text": [
      "9183\n"
     ]
    }
   ],
   "source": [
    "pow_set = set()\n",
    "for a in range(2, 101):\n",
    "    for b in range(2, 101):\n",
    "        pow_set.add(a**b)\n",
    "print(len(pow_set))"
   ]
  },
  {
   "cell_type": "markdown",
   "id": "a9d91135-403d-4a93-833f-c0e471f58a34",
   "metadata": {},
   "source": [
    "## Pandigital products\n",
    "\n",
    "<p>We shall say that an <var>n</var>-digit number is pandigital if it makes use of all the digits 1 to <var>n</var> exactly once; for example, the 5-digit number, 15234, is 1 through 5 pandigital.</p>\n",
    "\n",
    "<p>The product 7254 is unusual, as the identity, 39 × 186 = 7254, containing multiplicand, multiplier, and product is 1 through 9 pandigital.</p>\n",
    "\n",
    "<p>Find the sum of all products whose multiplicand/multiplier/product identity can be written as a 1 through 9 pandigital.</p>\n",
    "\n",
    "<div class=\"note\">HINT: Some products can be obtained in more than one way so be sure to only include it once in your sum.</div>\n"
   ]
  },
  {
   "cell_type": "code",
   "execution_count": 58,
   "id": "6452004e-6c0f-4b37-a9af-8017e82621d7",
   "metadata": {},
   "outputs": [],
   "source": [
    "result = set()\n",
    "for i in range(1,10):\n",
    "    for j in range(1000,9999):\n",
    "        tmp = i*j\n",
    "        if tmp < 9999:\n",
    "            tmp_str = str(i)+str(j)+str(tmp)\n",
    "            if set(tmp_str)==set(\"123456789\"):\n",
    "                result.add(tmp)"
   ]
  },
  {
   "cell_type": "code",
   "execution_count": 59,
   "id": "56bc888b-ca08-4943-b2dd-ce08a8889e47",
   "metadata": {},
   "outputs": [],
   "source": [
    "for i in range(10,99):\n",
    "    for j in range(100,999):\n",
    "        tmp = i*j\n",
    "        if tmp < 9999:\n",
    "            tmp_str = str(i)+str(j)+str(tmp)\n",
    "            if set(tmp_str)==set(\"123456789\"):\n",
    "                 result.add(tmp)"
   ]
  },
  {
   "cell_type": "code",
   "execution_count": 61,
   "id": "191193fe-2406-4345-a20e-bf253e531b30",
   "metadata": {},
   "outputs": [
    {
     "data": {
      "text/plain": [
       "45228"
      ]
     },
     "execution_count": 61,
     "metadata": {},
     "output_type": "execute_result"
    }
   ],
   "source": [
    "sss = 0\n",
    "for el in result:\n",
    "    sss+=el\n",
    "sss"
   ]
  },
  {
   "cell_type": "markdown",
   "id": "0da2301f-a083-4cd3-bee9-8bedaa742a30",
   "metadata": {},
   "source": [
    "## Largest exponential\n",
    "\n",
    "<p>Comparing two numbers written in index form like 2<sup>11</sup> and 3<sup>7</sup> is not difficult, as any calculator would confirm that 2<sup>11</sup> = 2048 &lt; 3<sup>7</sup> = 2187.</p>\n",
    "<p>However, confirming that 632382<sup>518061</sup> &gt; 519432<sup>525806</sup> would be much more difficult, as both numbers contain over three million digits.</p>\n",
    "<p>Using <a href=\"project/resources/p099_base_exp.txt\">base_exp.txt</a> (right click and 'Save Link/Target As...'), a 22K text file containing one thousand lines with a base/exponent pair on each line, determine which line number has the greatest numerical value.</p>\n",
    "<p class=\"smaller\">NOTE: The first two lines in the file represent the numbers in the example given above.</p>\n"
   ]
  },
  {
   "cell_type": "code",
   "execution_count": 85,
   "id": "ad2459f6-e968-4a14-a2a7-76b1d84c05aa",
   "metadata": {},
   "outputs": [],
   "source": [
    "import math"
   ]
  },
  {
   "cell_type": "code",
   "execution_count": 87,
   "id": "fa071a19-5fae-4e9b-83de-07e160c157d4",
   "metadata": {},
   "outputs": [
    {
     "name": "stdout",
     "output_type": "stream",
     "text": [
      "709\n"
     ]
    }
   ],
   "source": [
    "f = open(\"base_exp.txt\", \"r\", encoding=\"utf-8\")\n",
    "text = f.read()\n",
    "f.close()   \n",
    "\n",
    "newtext = []\n",
    "text = text.split(\"\\n\")\n",
    "for line in text:\n",
    "    line = line.split(\",\")\n",
    "    newtext.append([int(x) for x in line])\n",
    "\n",
    "loglist = []\n",
    "for line in newtext:\n",
    "    loglist.append(line[1]*math.log2(line[0]))\n",
    "print(loglist.index(max(loglist))+1)"
   ]
  },
  {
   "cell_type": "markdown",
   "id": "ed6cda57-06f4-4aa1-88e3-c98290e77141",
   "metadata": {},
   "source": [
    "## Circular primes\n",
    "\n",
    "\n",
    "<p>The number, 197, is called a circular prime because all rotations of the digits: 197, 971, and 719, are themselves prime.</p>\n",
    "<p>There are thirteen such primes below 100: 2, 3, 5, 7, 11, 13, 17, 31, 37, 71, 73, 79, and 97.</p>\n",
    "<p>How many circular primes are there below one million?</p>\n"
   ]
  },
  {
   "cell_type": "code",
   "execution_count": 96,
   "id": "d0b633e9-2661-4c06-b130-38d8b2a8d2e0",
   "metadata": {},
   "outputs": [],
   "source": [
    "def rotate(line):\n",
    "    return line[1:]+line[0]\n",
    "\n",
    "def is_prime(n):\n",
    "    if n <= 1: return False\n",
    "    if n <= 3: return True\n",
    "    if n%2==0 or n%3 == 0: return False\n",
    "    r = int(n**0.5)\n",
    "    f = 5\n",
    "    while f <= r:\n",
    "        if n%f == 0 or n%(f+2) == 0: return False\n",
    "        f+= 6\n",
    "    return True"
   ]
  },
  {
   "cell_type": "code",
   "execution_count": 95,
   "id": "6abf8c7e-74c7-48d3-807c-383ee67a28fb",
   "metadata": {},
   "outputs": [
    {
     "name": "stdout",
     "output_type": "stream",
     "text": [
      "55\n"
     ]
    }
   ],
   "source": [
    "primes = set()\n",
    "for i in range(1000000):\n",
    "    line = str(i)\n",
    "    curset = set()\n",
    "    while line not in curset:\n",
    "        curset.add(line)\n",
    "        line = rotate(line)\n",
    "    flag = 1\n",
    "    for el in curset:\n",
    "        if not is_prime(int(el)):\n",
    "            flag = 0\n",
    "            break\n",
    "    if flag:\n",
    "        primes.add(i)\n",
    "print(len(primes))\n"
   ]
  },
  {
   "cell_type": "markdown",
   "id": "e1b6b170-7d39-4c2c-930c-0dd995aaed5a",
   "metadata": {},
   "source": [
    "## Distinct primes factors\n",
    "\n",
    "<p>The first two consecutive numbers to have two distinct prime factors are:</p>\n",
    "<p class=\"margin_left\">14 = 2 × 7<br />15 = 3 × 5</p>\n",
    "<p>The first three consecutive numbers to have three distinct prime factors are:</p>\n",
    "<p class=\"margin_left\">644 = 2² × 7 × 23<br />645 = 3 × 5 × 43<br />646 = 2 × 17 × 19.</p>\n",
    "<p>Find the first four consecutive integers to have four distinct prime factors each. What is the first of these numbers?</p>\n"
   ]
  },
  {
   "cell_type": "code",
   "execution_count": 97,
   "id": "59d6e240-a9a8-44bf-9d06-20906295bfe7",
   "metadata": {},
   "outputs": [],
   "source": [
    "def factors(n):\n",
    "    flist = []\n",
    "    i = 2\n",
    "    while i <= n:\n",
    "        if not n%i:\n",
    "            flist += [i]\n",
    "            n = n//i\n",
    "        else:\n",
    "            i += 1\n",
    "    return flist   "
   ]
  },
  {
   "cell_type": "code",
   "execution_count": 116,
   "id": "20e6e317-1db2-4342-b4af-9f458d4e6a26",
   "metadata": {},
   "outputs": [],
   "source": [
    "i = 1\n",
    "while False:\n",
    "    f1 = set(factors(i))\n",
    "    f2 = set(factors(i+1))\n",
    "    if len(f1)==4 and len(f2)==4:\n",
    "        f3 = set(factors(i+2))\n",
    "        f4 = set(factors(i+3))\n",
    "        if len(f3)== 4 and len(f4)==4:\n",
    "            print(i)\n",
    "            break\n",
    "    i+=1\n",
    "#ужасно долго False\n",
    "#134043"
   ]
  },
  {
   "cell_type": "markdown",
   "id": "5a19c3d7-c256-477d-af0d-114a7f0e83ab",
   "metadata": {},
   "source": [
    "## Pandigital multiples\n",
    "\n",
    "<p>Take the number 192 and multiply it by each of 1, 2, and 3:</p>\n",
    "<blockquote>192 × 1 = 192<br />\n",
    "192 × 2 = 384<br />\n",
    "192 × 3 = 576</blockquote>\n",
    "<p>By concatenating each product we get the 1 to 9 pandigital, 192384576. We will call 192384576 the concatenated product of 192 and (1,2,3)</p>\n",
    "<p>The same can be achieved by starting with 9 and multiplying by 1, 2, 3, 4, and 5, giving the pandigital, 918273645, which is the concatenated product of 9 and (1,2,3,4,5).</p>\n",
    "<p>What is the largest 1 to 9 pandigital 9-digit number that can be formed as the concatenated product of an integer with (1,2, ... , <var>n</var>) where <var>n</var> &gt; 1?</p>\n"
   ]
  },
  {
   "cell_type": "code",
   "execution_count": 117,
   "id": "18f412a2-5481-4fbe-9ff8-450365e28a26",
   "metadata": {},
   "outputs": [],
   "source": [
    "def is_pandigital(n, s=9): \n",
    "    n=str(n)\n",
    "    return len(n)==s and not '1234567890'[:s].strip(n)"
   ]
  },
  {
   "cell_type": "code",
   "execution_count": 118,
   "id": "ad55b1bb-070e-44f6-8f0f-68964a65edc3",
   "metadata": {},
   "outputs": [
    {
     "name": "stdout",
     "output_type": "stream",
     "text": [
      "932718654\n"
     ]
    }
   ],
   "source": [
    "res = set()\n",
    "for i in range(1000, 10000):\n",
    "    abcd = i*1\n",
    "    efghi = i*2\n",
    "    n = int(str(abcd)+str(efghi))\n",
    "    if is_pandigital(n):\n",
    "        res.add(n)\n",
    "for i in range(100, 1000):\n",
    "    abc = i*1\n",
    "    dEf = i*2\n",
    "    ghi = i*3\n",
    "    n = int(str(abc)+str(dEf)+str(ghi))\n",
    "    if is_pandigital(n):\n",
    "        res.add(n)\n",
    "for i in range(10,100):\n",
    "    ab = i*1\n",
    "    cd = i*2\n",
    "    ef = i*3\n",
    "    ghi = i*4\n",
    "    n = int(str(ab)+str(cd)+str(ef)+str(ghi))\n",
    "    if is_pandigital(n):\n",
    "        res.add(n)\n",
    "for i in range(1,10):\n",
    "    a = i*1\n",
    "    bc = i*2\n",
    "    de = i*3\n",
    "    fg = i*4\n",
    "    hi = i*5\n",
    "    n = int(str(a)+str(bc)+str(de)+str(fg)+str(hi))\n",
    "    if is_pandigital(n):\n",
    "        res.add(n)\n",
    "for i in range(1,10):\n",
    "    a = i*1\n",
    "    b = i*2\n",
    "    c = i*3\n",
    "    de = i*4\n",
    "    fg = i*5\n",
    "    hi = i*6\n",
    "    n = int(str(a)+str(b)+str(c)+str(de)+str(fg)+str(hi))\n",
    "    if is_pandigital(n):\n",
    "        res.add(n)\n",
    "for i in range(1,10):\n",
    "    a = i*1\n",
    "    b = i*2\n",
    "    c = i*3\n",
    "    d = i*4\n",
    "    e = i*5\n",
    "    fg = i*6\n",
    "    hi = i*7\n",
    "    n = int(str(a)+str(b)+str(c)+str(d)+str(e)+str(fg)+str(hi))\n",
    "    if is_pandigital(n):\n",
    "        res.add(n)   \n",
    "print(max(res))"
   ]
  },
  {
   "cell_type": "markdown",
   "id": "d9d77f93-16d7-463f-896c-1db60463abe0",
   "metadata": {},
   "source": [
    "## Coded triangle numbers\n",
    "\n",
    "<p>The <i>n</i><sup>th</sup> term of the sequence of triangle numbers is given by, <i>t<sub>n</sub></i> = ½<i>n</i>(<i>n</i>+1); so the first ten triangle numbers are:</p>\n",
    "<p class=\"center\">1, 3, 6, 10, 15, 21, 28, 36, 45, 55, ...</p>\n",
    "<p>By converting each letter in a word to a number corresponding to its alphabetical position and adding these values we form a word value. For example, the word value for SKY is 19 + 11 + 25 = 55 = <i>t</i><sub>10</sub>. If the word value is a triangle number then we shall call the word a triangle word.</p>\n",
    "<p>Using <a href=\"project/resources/p042_words.txt\">words.txt</a> (right click and 'Save Link/Target As...'), a 16K text file containing nearly two-thousand common English words, how many are triangle words?</p>"
   ]
  },
  {
   "cell_type": "code",
   "execution_count": 123,
   "id": "563b6fb8-c360-4342-8a6f-1edd9d5c8c48",
   "metadata": {},
   "outputs": [],
   "source": [
    "f = open(\"words.txt\", \"r\", encoding=\"utf-8\")\n",
    "text = f.read()\n",
    "f.close()   \n",
    "\n",
    "len_list = []\n",
    "text = text.split(\",\")\n",
    "newtext = []\n",
    "for name in text:\n",
    "    name = name.strip('\"')\n",
    "    len_list.append(len(name))\n",
    "    newtext.append(name)\n",
    "maxlen = max(len_list)"
   ]
  },
  {
   "cell_type": "code",
   "execution_count": 126,
   "id": "e8a3c290-1f96-4f43-9887-105884c93513",
   "metadata": {},
   "outputs": [],
   "source": [
    "alp_dict = dict(zip(\"ABCDEFGHIJKLMNOPQRSTUVWXYZ\", range(1,27)))"
   ]
  },
  {
   "cell_type": "code",
   "execution_count": 131,
   "id": "cf418adb-e375-4819-ae86-7bb618bc3f16",
   "metadata": {},
   "outputs": [],
   "source": [
    "num = 26*maxlen\n",
    "tr = set()\n",
    "n = 1\n",
    "curnum = 0\n",
    "while curnum < num:\n",
    "    curnum = (n*(n+1))//2\n",
    "    tr.add(curnum)\n",
    "    n+=1"
   ]
  },
  {
   "cell_type": "code",
   "execution_count": 132,
   "id": "786c4156-7c46-4252-8a97-3dc519c394d8",
   "metadata": {},
   "outputs": [
    {
     "name": "stdout",
     "output_type": "stream",
     "text": [
      "162\n"
     ]
    }
   ],
   "source": [
    "count = 0\n",
    "for name in newtext:\n",
    "    s = 0\n",
    "    for letter in name:\n",
    "        s += alp_dict[letter]\n",
    "    if s in tr:\n",
    "        count+=1\n",
    "\n",
    "print(count)"
   ]
  },
  {
   "cell_type": "markdown",
   "id": "9dd5d71e-289a-4a78-8d15-15ed44ad71df",
   "metadata": {},
   "source": [
    "## Non-abundant sums\n",
    "\n",
    "<p>A perfect number is a number for which the sum of its proper divisors is exactly equal to the number. For example, the sum of the proper divisors of 28 would be 1 + 2 + 4 + 7 + 14 = 28, which means that 28 is a perfect number.</p>\n",
    "<p>A number <var>n</var> is called deficient if the sum of its proper divisors is less than <var>n</var> and it is called abundant if this sum exceeds <var>n</var>.</p>\n",
    "\n",
    "<p>As 12 is the smallest abundant number, 1 + 2 + 3 + 4 + 6 = 16, the smallest number that can be written as the sum of two abundant numbers is 24. By mathematical analysis, it can be shown that all integers greater than 28123 can be written as the sum of two abundant numbers. However, this upper limit cannot be reduced any further by analysis even though it is known that the greatest number that cannot be expressed as the sum of two abundant numbers is less than this limit.</p>\n",
    "<p>Find the sum of all the positive integers which cannot be written as the sum of two abundant numbers.</p>\n"
   ]
  },
  {
   "cell_type": "code",
   "execution_count": 183,
   "id": "e381b8ad-f88b-488b-8d05-f9332817548b",
   "metadata": {},
   "outputs": [],
   "source": [
    "import math\n",
    "def divisors(n):\n",
    "    divs = [1]\n",
    "    for i in range(2,int(math.sqrt(n))+1):\n",
    "        if n%i == 0:\n",
    "            divs.extend([i,n//i])\n",
    "    return list(set(divs))\n"
   ]
  },
  {
   "cell_type": "code",
   "execution_count": 178,
   "id": "3f33fb01-2cf1-4321-8d36-674e58ae8a00",
   "metadata": {},
   "outputs": [],
   "source": [
    "NUM = 28124\n",
    "pos = [False]*NUM\n",
    "abset = set()\n",
    "for i in range(1, NUM):\n",
    "    if sum(divisors(i)) > i:\n",
    "        abset.add(i)"
   ]
  },
  {
   "cell_type": "code",
   "execution_count": 180,
   "id": "f9676b4d-6ff3-4b0d-aa44-9a0403664719",
   "metadata": {},
   "outputs": [
    {
     "data": {
      "text/plain": [
       "4179871"
      ]
     },
     "execution_count": 180,
     "metadata": {},
     "output_type": "execute_result"
    }
   ],
   "source": [
    "for addend1 in abset:\n",
    "    for addend2 in abset:\n",
    "        if addend1+addend2 < NUM:\n",
    "            pos[addend1+addend2] = True\n",
    "s = sum(i for (i,x) in enumerate(pos) if not x)\n",
    "s"
   ]
  },
  {
   "cell_type": "markdown",
   "id": "f5025ec8-196d-4eb8-b15b-fb7ae8e59d73",
   "metadata": {},
   "source": [
    "## Amicable numbers\n",
    "\n",
    "<p>Let d(<i>n</i>) be defined as the sum of proper divisors of <i>n</i> (numbers less than <i>n</i> which divide evenly into <i>n</i>).<br />\n",
    "If d(<i>a</i>) = <i>b</i> and d(<i>b</i>) = <i>a</i>, where <i>a</i> ≠ <i>b</i>, then <i>a</i> and <i>b</i> are an amicable pair and each of <i>a</i> and <i>b</i> are called amicable numbers.</p>\n",
    "<p>For example, the proper divisors of 220 are 1, 2, 4, 5, 10, 11, 20, 22, 44, 55 and 110; therefore d(220) = 284. The proper divisors of 284 are 1, 2, 4, 71 and 142; so d(284) = 220.</p>\n",
    "<p>Evaluate the sum of all the amicable numbers under 10000.</p>"
   ]
  },
  {
   "cell_type": "code",
   "execution_count": 185,
   "id": "40e60a3c-5233-4f36-8e3e-8706b48b5a36",
   "metadata": {},
   "outputs": [],
   "source": [
    "def d(n):\n",
    "    return sum(divisors(n))"
   ]
  },
  {
   "cell_type": "code",
   "execution_count": 191,
   "id": "714560e7-4629-441a-931f-200b463f4b63",
   "metadata": {},
   "outputs": [
    {
     "name": "stdout",
     "output_type": "stream",
     "text": [
      "31626\n"
     ]
    },
    {
     "data": {
      "text/plain": [
       "{220, 284, 1184, 1210, 2620, 2924, 5020, 5564, 6232, 6368}"
      ]
     },
     "execution_count": 191,
     "metadata": {},
     "output_type": "execute_result"
    }
   ],
   "source": [
    "amicable = set()\n",
    "for i in range(2, 10000):\n",
    "    d1 = d(i)\n",
    "    if d(d1) == i and d1 != i:\n",
    "        amicable.add(i)\n",
    "        amicable.add(d1)\n",
    "print(sum(amicable))\n",
    "amicable"
   ]
  },
  {
   "cell_type": "markdown",
   "id": "65b7fc81-fa5d-4ad7-bc21-525313b3cbdd",
   "metadata": {},
   "source": [
    "##  Number letter counts\n",
    "\n",
    "<p>If the numbers 1 to 5 are written out in words: one, two, three, four, five, then there are 3 + 3 + 5 + 4 + 4 = 19 letters used in total.</p>\n",
    "<p>If all the numbers from 1 to 1000 (one thousand) inclusive were written out in words, how many letters would be used? </p>\n",
    "<br /><p class=\"note\"><b>NOTE:</b> Do not count spaces or hyphens. For example, 342 (three hundred and forty-two) contains 23 letters and 115 (one hundred and fifteen) contains 20 letters. The use of \"and\" when writing out numbers is in compliance with British usage.</p>"
   ]
  },
  {
   "cell_type": "code",
   "execution_count": 10,
   "id": "e7e7fdbc-d1a5-4a4f-9289-bbe1cd869fde",
   "metadata": {},
   "outputs": [],
   "source": [
    "digitsteens = {1:\"one\", 2:\"two\", 3:\"three\", 4:\"four\", 5:\"five\", 6:\"six\", 7:\"seven\", 8:\"eight\", 9:\"nine\", 10: \"ten\", 11:\"eleven\", 12:\"twelve\", 13:\"thirteen\", 14:\"fourteen\", 15:\"fifteen\", 16:\"sixteen\", 17:\"seventeen\", 18:\"eighteen\", 19:\"nineteen\"}\n",
    "tens = {2:\"twenty\", 3:\"thirty\", 4:\"forty\", 5:\"fifty\", 6:\"sixty\", 7:\"seventy\", 8:\"eighty\", 9:\"ninety\"}\n",
    "\"hundred\", \"thousand\";"
   ]
  },
  {
   "cell_type": "code",
   "execution_count": 19,
   "id": "d7589219-0b20-4642-a3e0-7b440711584b",
   "metadata": {},
   "outputs": [
    {
     "name": "stdout",
     "output_type": "stream",
     "text": [
      "21124\n"
     ]
    }
   ],
   "source": [
    "cntstr = \"\"\n",
    "for i in range(1,1001):\n",
    "    if i == 1000:\n",
    "        cntstr += \"onethousand\"\n",
    "        continue\n",
    "    elif i < 20:\n",
    "        cntstr += digitsteens[i]\n",
    "        continue\n",
    "    else:\n",
    "        h = i//100\n",
    "        if h != 0:\n",
    "            cntstr += digitsteens[h] + \"hundred\" \n",
    "        i -= h*100\n",
    "        if i < 20 and i :\n",
    "            cntstr += \"and\" + digitsteens[i]\n",
    "            continue\n",
    "        t = i//10\n",
    "        if t != 0:\n",
    "            cntstr += tens[t]\n",
    "        d = i%10\n",
    "        if d != 0:\n",
    "            cntstr += digitsteens[d]\n",
    "        if h and (d or t):\n",
    "             cntstr += \"and\"\n",
    "        \n",
    "print(len(cntstr))"
   ]
  },
  {
   "cell_type": "code",
   "execution_count": null,
   "id": "66355971-aec6-499c-909a-7c90cac5f9de",
   "metadata": {},
   "outputs": [],
   "source": []
  }
 ],
 "metadata": {
  "kernelspec": {
   "display_name": "Python 3 (ipykernel)",
   "language": "python",
   "name": "python3"
  },
  "language_info": {
   "codemirror_mode": {
    "name": "ipython",
    "version": 3
   },
   "file_extension": ".py",
   "mimetype": "text/x-python",
   "name": "python",
   "nbconvert_exporter": "python",
   "pygments_lexer": "ipython3",
   "version": "3.9.7"
  }
 },
 "nbformat": 4,
 "nbformat_minor": 5
}
