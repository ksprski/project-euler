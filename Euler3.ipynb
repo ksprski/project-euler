{
 "cells": [
  {
   "cell_type": "markdown",
   "id": "bc00495e-ca65-4a11-87b4-b7ef255e4876",
   "metadata": {
    "tags": []
   },
   "source": [
    "## Sub-string divisibility\n",
    "\n",
    "<p>The number, 1406357289, is a 0 to 9 pandigital number because it is made up of each of the digits 0 to 9 in some order, but it also has a rather interesting sub-string divisibility property.</p>\n",
    "<p>Let <i>d</i><sub>1</sub> be the 1<sup>st</sup> digit, <i>d</i><sub>2</sub> be the 2<sup>nd</sup> digit, and so on. In this way, we note the following:</p>\n",
    "<ul><li><i>d</i><sub>2</sub><i>d</i><sub>3</sub><i>d</i><sub>4</sub>=406 is divisible by 2</li>\n",
    "<li><i>d</i><sub>3</sub><i>d</i><sub>4</sub><i>d</i><sub>5</sub>=063 is divisible by 3</li>\n",
    "<li><i>d</i><sub>4</sub><i>d</i><sub>5</sub><i>d</i><sub>6</sub>=635 is divisible by 5</li>\n",
    "<li><i>d</i><sub>5</sub><i>d</i><sub>6</sub><i>d</i><sub>7</sub>=357 is divisible by 7</li>\n",
    "<li><i>d</i><sub>6</sub><i>d</i><sub>7</sub><i>d</i><sub>8</sub>=572 is divisible by 11</li>\n",
    "<li><i>d</i><sub>7</sub><i>d</i><sub>8</sub><i>d</i><sub>9</sub>=728 is divisible by 13</li>\n",
    "<li><i>d</i><sub>8</sub><i>d</i><sub>9</sub><i>d</i><sub>10</sub>=289 is divisible by 17</li>\n",
    "</ul><p>Find the sum of all 0 to 9 pandigital numbers with this property.</p>\n"
   ]
  },
  {
   "cell_type": "code",
   "execution_count": 17,
   "id": "a67f0582-4fe3-4ebd-ae30-f09ab05abd29",
   "metadata": {},
   "outputs": [],
   "source": [
    "import itertools"
   ]
  },
  {
   "cell_type": "code",
   "execution_count": 18,
   "id": "1ab8cb8a-5d4e-4800-82fe-008ee610f79d",
   "metadata": {},
   "outputs": [],
   "source": [
    "nums = list(itertools.permutations(list(range(10))))\n",
    "d4 = {0,2,4,6,8}\n",
    "d6 = 5\n",
    "nums =  [x for x in nums if x[5]==5 and x[3] in d4]\n",
    "nums = [int(''.join(map(str, x))) for x in nums]"
   ]
  },
  {
   "cell_type": "code",
   "execution_count": 21,
   "id": "66db1a6c-2a48-4d12-a8fd-a24de0decb80",
   "metadata": {},
   "outputs": [
    {
     "name": "stdout",
     "output_type": "stream",
     "text": [
      "16695334890\n"
     ]
    }
   ],
   "source": [
    "paslist = []\n",
    "for num in nums:\n",
    "    num = str(num)\n",
    "    d2 = int(num[1:4])\n",
    "    d3 = int(num[2:5])\n",
    "    d4 = int(num[3:6])\n",
    "    d5 = int(num[4:7])\n",
    "    d6 = int(num[5:8])\n",
    "    d7 = int(num[6:9])\n",
    "    d8 = int(num[7:])\n",
    "    if all((d2%2==0, d3%3==0, d4%5==0, d5%7==0, d6%11==0, d7%13==0, d8%17==0)):\n",
    "        paslist.append(int(num))\n",
    "print(sum(paslist))"
   ]
  },
  {
   "cell_type": "markdown",
   "id": "f11602bc-79ae-49c7-9af2-da8083f79747",
   "metadata": {},
   "source": [
    "## Large non-Mersenne prime\n",
    "\n",
    "<p>The first known prime found to exceed one million digits was discovered in 1999, and is a Mersenne prime of the form 2<sup>6972593</sup>−1; it contains exactly 2,098,960 digits. Subsequently other Mersenne primes, of the form 2<sup><i>p</i></sup>−1, have been found which contain more digits.</p>\n",
    "<p>However, in 2004 there was found a massive non-Mersenne prime which contains 2,357,207 digits: 28433×2<sup>7830457</sup>+1.</p>\n",
    "<p>Find the last ten digits of this prime number.</p>\n"
   ]
  },
  {
   "cell_type": "code",
   "execution_count": 26,
   "id": "891e79fa-28e1-47ae-935b-62492c8ed831",
   "metadata": {},
   "outputs": [
    {
     "data": {
      "text/plain": [
       "'8739992577'"
      ]
     },
     "execution_count": 26,
     "metadata": {},
     "output_type": "execute_result"
    }
   ],
   "source": [
    "str(pow(2,7830457, pow(10,10))*28433+1)[-10:]"
   ]
  },
  {
   "cell_type": "markdown",
   "id": "4f660bab-9d35-4229-9d9e-4b2ca6b0f003",
   "metadata": {},
   "source": [
    "## Reciprocal cycles\n",
    "\n",
    "\n",
    "<p>A unit fraction contains 1 in the numerator. The decimal representation of the unit fractions with denominators 2 to 10 are given:</p>\n",
    "<blockquote>\n",
    "<table><tr><td><sup>1</sup>/<sub>2</sub></td><td>= </td><td>0.5</td>\n",
    "</tr><tr><td><sup>1</sup>/<sub>3</sub></td><td>= </td><td>0.(3)</td>\n",
    "</tr><tr><td><sup>1</sup>/<sub>4</sub></td><td>= </td><td>0.25</td>\n",
    "</tr><tr><td><sup>1</sup>/<sub>5</sub></td><td>= </td><td>0.2</td>\n",
    "</tr><tr><td><sup>1</sup>/<sub>6</sub></td><td>= </td><td>0.1(6)</td>\n",
    "</tr><tr><td><sup>1</sup>/<sub>7</sub></td><td>= </td><td>0.(142857)</td>\n",
    "</tr><tr><td><sup>1</sup>/<sub>8</sub></td><td>= </td><td>0.125</td>\n",
    "</tr><tr><td><sup>1</sup>/<sub>9</sub></td><td>= </td><td>0.(1)</td>\n",
    "</tr><tr><td><sup>1</sup>/<sub>10</sub></td><td>= </td><td>0.1</td>\n",
    "</tr></table></blockquote>\n",
    "<p>Where 0.1(6) means 0.166666..., and has a 1-digit recurring cycle. It can be seen that <sup>1</sup>/<sub>7</sub> has a 6-digit recurring cycle.</p>\n",
    "<p>Find the value of <i>d</i> &lt; 1000 for which <sup>1</sup>/<sub><i>d</i></sub> contains the longest recurring cycle in its decimal fraction part.</p>"
   ]
  },
  {
   "cell_type": "code",
   "execution_count": 32,
   "id": "54cb23c2-a731-4f90-90c3-9085abab9da8",
   "metadata": {},
   "outputs": [],
   "source": [
    "def frtodec(num, den):\n",
    "    res = \"\"\n",
    "    mp = dict()\n",
    "    rem = num % den\n",
    " \n",
    "    while rem != 0 and rem not in mp:\n",
    "        mp[rem] = len(res)\n",
    "        rem*=10\n",
    "\n",
    "        res_part = rem//den\n",
    "        res += str(res_part)\n",
    " \n",
    "        rem = rem % den\n",
    " \n",
    "    if (rem == 0):\n",
    "        return 0\n",
    "    else:\n",
    "        return int(res[mp[rem]:])"
   ]
  },
  {
   "cell_type": "code",
   "execution_count": 33,
   "id": "fb3266be-a6c4-4d19-a760-e3f4e549c30e",
   "metadata": {},
   "outputs": [
    {
     "name": "stdout",
     "output_type": "stream",
     "text": [
      "983\n"
     ]
    }
   ],
   "source": [
    "lenlist = [0]\n",
    "for i in range(1,1000):\n",
    "    lenlist.append(frtodec(1,i))\n",
    "print(lenlist.index(max(lenlist)))"
   ]
  },
  {
   "cell_type": "markdown",
   "id": "a358310e-5b87-40c9-be56-d8609200ae14",
   "metadata": {},
   "source": [
    "## Champernowne's constant\n",
    "\n",
    "<p>An irrational decimal fraction is created by concatenating the positive integers:</p>\n",
    "<p class=\"center\">0.12345678910<span class=\"red strong\">1</span>112131415161718192021...</p>\n",
    "<p>It can be seen that the 12<sup>th</sup> digit of the fractional part is 1.</p>\n",
    "<p>If <i>d</i><sub><i>n</i></sub> represents the <i>n</i><sup>th</sup> digit of the fractional part, find the value of the following expression.</p>\n",
    "<p class=\"center\"><i>d</i><sub>1</sub> × <i>d</i><sub>10</sub> × <i>d</i><sub>100</sub> × <i>d</i><sub>1000</sub> × <i>d</i><sub>10000</sub> × <i>d</i><sub>100000</sub> × <i>d</i><sub>1000000</sub></p>\n"
   ]
  },
  {
   "cell_type": "code",
   "execution_count": 5,
   "id": "80980117-2a4c-433d-98fc-57a6173b66ba",
   "metadata": {},
   "outputs": [
    {
     "data": {
      "text/plain": [
       "1088889"
      ]
     },
     "execution_count": 5,
     "metadata": {},
     "output_type": "execute_result"
    }
   ],
   "source": [
    "9*1+90*2+900*3+9000*4+90000*5+100000*6"
   ]
  },
  {
   "cell_type": "code",
   "execution_count": 6,
   "id": "0caf8738-4656-4a1d-97d7-96ff7cbef611",
   "metadata": {},
   "outputs": [
    {
     "data": {
      "text/plain": [
       "210"
      ]
     },
     "execution_count": 6,
     "metadata": {},
     "output_type": "execute_result"
    }
   ],
   "source": [
    "ourstr = \"\"\n",
    "for i in range(1,200000):\n",
    "    ourstr+=str(i)\n",
    "\n",
    "d1 = int(ourstr[0])\n",
    "d10 = int(ourstr[9])\n",
    "d100 = int(ourstr[99])\n",
    "d1000 = int(ourstr[999])\n",
    "d10000 = int(ourstr[9999])\n",
    "d100000 = int(ourstr[99999])\n",
    "d1000000 = int(ourstr[999999])\n",
    "\n",
    "d1*d10*d100*d1000*d10000*d100000*d1000000"
   ]
  },
  {
   "cell_type": "markdown",
   "id": "eb60fb21-9667-48b5-8449-4e2839514404",
   "metadata": {},
   "source": [
    "## Permuted multiples\n",
    "\n",
    "<p>It can be seen that the number, 125874, and its double, 251748, contain exactly the same digits, but in a different order.</p>\n",
    "<p>Find the smallest positive integer, <i>x</i>, such that 2<i>x</i>, 3<i>x</i>, 4<i>x</i>, 5<i>x</i>, and 6<i>x</i>, contain the same digits.</p>\n",
    "\n"
   ]
  },
  {
   "cell_type": "code",
   "execution_count": 9,
   "id": "2a83b9c2-b2e6-4441-b425-42aac65a9af6",
   "metadata": {},
   "outputs": [],
   "source": [
    "def same(a,b,c,d,e,f):\n",
    "    return set(str(a))==set(str(b))==set(str(c))==set(str(d))==set(str(e))==set(str(f)) and len(str(a))==len(str(b))==len(str(c))==len(str(d))==len(str(e))==len(str(f))"
   ]
  },
  {
   "cell_type": "code",
   "execution_count": 10,
   "id": "cd567b4d-d744-410d-a2d2-f71085fab0a5",
   "metadata": {},
   "outputs": [
    {
     "name": "stdout",
     "output_type": "stream",
     "text": [
      "142857\n"
     ]
    }
   ],
   "source": [
    "i = 1\n",
    "while True:\n",
    "    if same(i,2*i,3*i,4*i,5*i,6*i):\n",
    "        print(i)\n",
    "        break\n",
    "    i+=1"
   ]
  },
  {
   "cell_type": "markdown",
   "id": "b80d7581-1361-4b1e-80ce-ce8f6df63086",
   "metadata": {},
   "source": [
    "## Powerful digit sum\n",
    "\n",
    "\n",
    "<p>A googol (10<sup>100</sup>) is a massive number: one followed by one-hundred zeros; 100<sup>100</sup> is almost unimaginably large: one followed by two-hundred zeros. Despite their size, the sum of the digits in each number is only 1.</p>\n",
    "<p>Considering natural numbers of the form, <i>a<sup>b</sup></i>, where <i>a, b</i> &lt; 100, what is the maximum digital sum?</p>\n"
   ]
  },
  {
   "cell_type": "code",
   "execution_count": 4,
   "id": "4dd8591f-7d56-4184-921d-c02d33ae5f29",
   "metadata": {},
   "outputs": [
    {
     "name": "stdout",
     "output_type": "stream",
     "text": [
      "972\n"
     ]
    }
   ],
   "source": [
    "print(max(sum(map(int, str(a**b))) for a in range(50,100) for b in range(50,100)))"
   ]
  },
  {
   "cell_type": "markdown",
   "id": "31974017-22e3-48fb-ae07-2542839a8704",
   "metadata": {},
   "source": [
    "## Cubic permutations\n",
    "\n",
    "<p>The cube, 41063625 (345<sup>3</sup>), can be permuted to produce two other cubes: 56623104 (384<sup>3</sup>) and 66430125 (405<sup>3</sup>). In fact, 41063625 is the smallest cube which has exactly three permutations of its digits which are also cube.</p>\n",
    "<p>Find the smallest cube for which exactly five permutations of its digits are cube.</p>\n"
   ]
  },
  {
   "cell_type": "code",
   "execution_count": 72,
   "id": "52a4b6a8-81e6-4394-af48-0b771339e47c",
   "metadata": {},
   "outputs": [],
   "source": [
    "def perm(a,b):\n",
    "    a = str(a)\n",
    "    b = str(b)\n",
    "    if len(a)!=len(b):\n",
    "        return False\n",
    "    for digit in a:\n",
    "        c = list(a).count(digit)\n",
    "        d = list(b).count(digit)\n",
    "        if c!=d:\n",
    "            return False\n",
    "    return True"
   ]
  },
  {
   "cell_type": "code",
   "execution_count": 73,
   "id": "87da510f-1393-49f0-aca7-c9ae5b3944cc",
   "metadata": {},
   "outputs": [
    {
     "name": "stdout",
     "output_type": "stream",
     "text": [
      "127035954683\n"
     ]
    }
   ],
   "source": [
    "x = 1\n",
    "cubes = []\n",
    "while True:\n",
    "    num = x**3\n",
    "    lst = [num]\n",
    "    for cube in cubes:\n",
    "        if perm(num,cube):\n",
    "            lst.append(cube)\n",
    "    if len(lst)==5:\n",
    "        print(min(lst))\n",
    "        break\n",
    "    cubes.append(num)\n",
    "    x+=1"
   ]
  },
  {
   "cell_type": "markdown",
   "id": "24570320-9197-476d-9687-5e710ab7539f",
   "metadata": {},
   "source": [
    "## Self powers\n",
    "\n",
    "<p>The series, 1<sup>1</sup> + 2<sup>2</sup> + 3<sup>3</sup> + ... + 10<sup>10</sup> = 10405071317.</p>\n",
    "<p>Find the last ten digits of the series, 1<sup>1</sup> + 2<sup>2</sup> + 3<sup>3</sup> + ... + 1000<sup>1000</sup>.</p>\n"
   ]
  },
  {
   "cell_type": "code",
   "execution_count": 74,
   "id": "31bb9157-7085-48b4-961b-9f341b173a9d",
   "metadata": {},
   "outputs": [
    {
     "name": "stdout",
     "output_type": "stream",
     "text": [
      "9110846700\n"
     ]
    }
   ],
   "source": [
    "s = 0\n",
    "n = 1\n",
    "while n<=1000:\n",
    "    s += pow(n,n,pow(10,10))\n",
    "    n += 1\n",
    "print(str(s)[-10:])"
   ]
  },
  {
   "cell_type": "markdown",
   "id": "e73a82ba-4ce6-4c58-9699-6de240428d61",
   "metadata": {},
   "source": [
    "## Path sum: two ways\n",
    "\n",
    "<p>In the 5 by 5 matrix below, the minimal path sum from the top left to the bottom right, by <b>only moving to the right and down</b>, is indicated in bold red and is equal to 2427.</p>\n",
    "<div class=\"center\">\n",
    "$$\n",
    "\\begin{pmatrix}\n",
    "\\color{red}{131} &amp; 673 &amp; 234 &amp; 103 &amp; 18\\\\\n",
    "\\color{red}{201} &amp; \\color{red}{96} &amp; \\color{red}{342} &amp; 965 &amp; 150\\\\\n",
    "630 &amp; 803 &amp; \\color{red}{746} &amp; \\color{red}{422} &amp; 111\\\\\n",
    "537 &amp; 699 &amp; 497 &amp; \\color{red}{121} &amp; 956\\\\\n",
    "805 &amp; 732 &amp; 524 &amp; \\color{red}{37} &amp; \\color{red}{331}\n",
    "\\end{pmatrix}\n",
    "$$\n",
    "</div>\n",
    "<p>Find the minimal path sum from the top left to the bottom right by only moving right and down in <a href=\"project/resources/p081_matrix.txt\">matrix.txt</a> (right click and \"Save Link/Target As...\"), a 31K text file containing an 80 by 80 matrix.</p>"
   ]
  },
  {
   "cell_type": "code",
   "execution_count": 78,
   "id": "12145292-8b0f-40f0-82ec-d319a816582e",
   "metadata": {},
   "outputs": [],
   "source": [
    "f = open(\"matrix.txt\", \"r\", encoding=\"utf-8\")\n",
    "text = f.read()\n",
    "f.close()   \n",
    "\n",
    "text = text.split(\"\\n\")[:-1]\n",
    "matrix = []\n",
    "for line in text:\n",
    "    line = line.split(\",\")\n",
    "    line = [int(x) for x in line]\n",
    "    matrix.append(line)\n",
    "\n",
    "rows = len(matrix)\n",
    "columns = len(matrix[0])"
   ]
  },
  {
   "cell_type": "code",
   "execution_count": 80,
   "id": "d6c9b0cb-e0c9-42dd-9d0f-ed6809aa07c6",
   "metadata": {},
   "outputs": [
    {
     "name": "stdout",
     "output_type": "stream",
     "text": [
      "427337\n"
     ]
    }
   ],
   "source": [
    "for i in range(1,rows):\n",
    "    for j in range(1,columns):\n",
    "        matrix[i][0]+= matrix[i-1][0]\n",
    "        matrix[0][j]+= matrix[0][j-1]\n",
    "        matrix[i][j]+= min(matrix[i-1][j], matrix[i][j-1])\n",
    "print(matrix[-1][-1])"
   ]
  },
  {
   "cell_type": "markdown",
   "id": "95716593-01b2-49ac-b9f1-697d86fdf949",
   "metadata": {},
   "source": [
    "## Digit factorial chains\n",
    "\n",
    "<p>The number 145 is well known for the property that the sum of the factorial of its digits is equal to 145:</p>\n",
    "<p class=\"margin_left\">1! + 4! + 5! = 1 + 24 + 120 = 145</p>\n",
    "<p>Perhaps less well known is 169, in that it produces the longest chain of numbers that link back to 169; it turns out that there are only three such loops that exist:</p>\n",
    "<p class=\"margin_left\">169 → 363601 → 1454 → 169<br />\n",
    "871 → 45361 → 871<br />\n",
    "872 → 45362 → 872</p>\n",
    "<p>It is not difficult to prove that EVERY starting number will eventually get stuck in a loop. For example,</p>\n",
    "<p class=\"margin_left\">69 → 363600 → 1454 → 169 → 363601 (→ 1454)<br />\n",
    "78 → 45360 → 871 → 45361 (→ 871)<br />\n",
    "540 → 145 (→ 145)</p>\n",
    "<p>Starting with 69 produces a chain of five non-repeating terms, but the longest non-repeating chain with a starting number below one million is sixty terms.</p>\n",
    "<p>How many chains, with a starting number below one million, contain exactly sixty non-repeating terms?</p>\n"
   ]
  },
  {
   "cell_type": "code",
   "execution_count": 90,
   "id": "467e553f-6333-407c-9a92-78788a254c15",
   "metadata": {},
   "outputs": [],
   "source": [
    "import math"
   ]
  },
  {
   "cell_type": "code",
   "execution_count": 91,
   "id": "26e26018-5efd-403e-85bd-fdac41fd2775",
   "metadata": {},
   "outputs": [],
   "source": [
    "def digfac(n):\n",
    "    return sum([math.factorial(int(dig)) for dig in str(n)])"
   ]
  },
  {
   "cell_type": "code",
   "execution_count": 93,
   "id": "1b3f8c9e-428a-46d8-be37-b2676b1d27e1",
   "metadata": {},
   "outputs": [],
   "source": [
    "def chain(n):\n",
    "    visited = set()\n",
    "    while True:\n",
    "        visited.add(n)\n",
    "        n = digfac(n)\n",
    "        if n in visited:\n",
    "            return len(visited)\n"
   ]
  },
  {
   "cell_type": "code",
   "execution_count": 94,
   "id": "95945bab-e406-4866-a652-0b3afecc3562",
   "metadata": {},
   "outputs": [
    {
     "data": {
      "text/plain": [
       "402"
      ]
     },
     "execution_count": 94,
     "metadata": {},
     "output_type": "execute_result"
    }
   ],
   "source": [
    "sum([1 for x in range(1000000) if chain(x)==60])"
   ]
  },
  {
   "cell_type": "markdown",
   "id": "8afda425-e566-40fd-8f8f-8a1d462199c9",
   "metadata": {},
   "source": [
    "##  Square digit chains\n",
    "\n",
    "<p>A number chain is created by continuously adding the square of the digits in a number to form a new number until it has been seen before.</p>\n",
    "<p>For example,</p>\n",
    "<p class=\"margin_left\">44 → 32 → 13 → 10 → <b>1</b> → <b>1</b><br />\n",
    "85 → <b>89</b> → 145 → 42 → 20 → 4 → 16 → 37 → 58 → <b>89</b></p>\n",
    "<p>Therefore any chain that arrives at 1 or 89 will become stuck in an endless loop. What is most amazing is that EVERY starting number will eventually arrive at 1 or 89.</p>\n",
    "<p>How many starting numbers below ten million will arrive at 89?</p>\n"
   ]
  },
  {
   "cell_type": "code",
   "execution_count": 95,
   "id": "d7926930-5ea6-4a1f-bdc5-89a32518fea8",
   "metadata": {},
   "outputs": [],
   "source": [
    "def digsqsum(n):\n",
    "    return sum([pow(int(dig),2) for dig in str(n)])"
   ]
  },
  {
   "cell_type": "code",
   "execution_count": 168,
   "id": "7b5d028d-e43b-4ee9-b800-ebe44a3645cc",
   "metadata": {},
   "outputs": [],
   "source": [
    "def chn(n):\n",
    "    n1 = n\n",
    "    while True:\n",
    "        if chndict[n] > 0:\n",
    "            chndict[n1] = chndict[n]\n",
    "            return\n",
    "        if n == 89:\n",
    "            chndict[n1] = 89\n",
    "            return \n",
    "        elif n == 1:\n",
    "            chndict[n1] = 1\n",
    "            return \n",
    "        n = digsqsum(n)"
   ]
  },
  {
   "cell_type": "code",
   "execution_count": 169,
   "id": "8a0063d5-c0d8-4f24-b7df-0a441143b3f7",
   "metadata": {},
   "outputs": [],
   "source": [
    "chndict = {x:0 for x in range(1, 9**2*7 + 1)}\n",
    "for i in range(1,9**2*7 + 1):\n",
    "    chn(i)"
   ]
  },
  {
   "cell_type": "code",
   "execution_count": 173,
   "id": "6f7bacc7-5128-40ca-85b8-8f15405a2ef2",
   "metadata": {},
   "outputs": [
    {
     "data": {
      "text/plain": [
       "8581146"
      ]
     },
     "execution_count": 173,
     "metadata": {},
     "output_type": "execute_result"
    }
   ],
   "source": [
    "sum([1 for x in range(1,10000000) if chndict[digsqsum(x)] == 89])"
   ]
  },
  {
   "cell_type": "markdown",
   "id": "5876e9ca-8e85-4d09-9a0d-9918d5bcafea",
   "metadata": {},
   "source": [
    "## Lychrel numbers\n",
    "\n",
    "<p>If we take 47, reverse and add, 47 + 74 = 121, which is palindromic.</p>\n",
    "<p>Not all numbers produce palindromes so quickly. For example,</p>\n",
    "<p class=\"margin_left\">349 + 943 = 1292,<br />\n",
    "1292 + 2921 = 4213<br />\n",
    "4213 + 3124 = 7337</p>\n",
    "<p>That is, 349 took three iterations to arrive at a palindrome.</p>\n",
    "<p>Although no one has proved it yet, it is thought that some numbers, like 196, never produce a palindrome. A number that never forms a palindrome through the reverse and add process is called a Lychrel number. Due to the theoretical nature of these numbers, and for the purpose of this problem, we shall assume that a number is Lychrel until proven otherwise. In addition you are given that for every number below ten-thousand, it will either (i) become a palindrome in less than fifty iterations, or, (ii) no one, with all the computing power that exists, has managed so far to map it to a palindrome. In fact, 10677 is the first number to be shown to require over fifty iterations before producing a palindrome: 4668731596684224866951378664 (53 iterations, 28-digits).</p>\n",
    "<p>Surprisingly, there are palindromic numbers that are themselves Lychrel numbers; the first example is 4994.</p>\n",
    "<p>How many Lychrel numbers are there below ten-thousand?</p>\n",
    "<p class=\"smaller\">NOTE: Wording was modified slightly on 24 April 2007 to emphasise the theoretical nature of Lychrel numbers.</p>"
   ]
  },
  {
   "cell_type": "code",
   "execution_count": 176,
   "id": "ae05af8a-b84e-4fd9-9e3b-cb5f81423218",
   "metadata": {},
   "outputs": [],
   "source": [
    "def rvrs(line):\n",
    "    if line:\n",
    "        return line[-1] + rvrs(line[:-1])\n",
    "    else:\n",
    "        return line\n",
    "        \n",
    "def check_palindrome(num):\n",
    "    line = str(num)\n",
    "    return line == rvrs(line)"
   ]
  },
  {
   "cell_type": "code",
   "execution_count": 180,
   "id": "dded0a81-d85e-4bd3-90d2-d781680eec46",
   "metadata": {},
   "outputs": [],
   "source": [
    "def lychit(n):\n",
    "    count = 0\n",
    "    lych = True\n",
    "    while count < 50:\n",
    "        n = n + int(rvrs(str(n)))\n",
    "        if check_palindrome(n):\n",
    "            lych = False\n",
    "            break\n",
    "        count+=1\n",
    "    return lych"
   ]
  },
  {
   "cell_type": "code",
   "execution_count": 181,
   "id": "2682e390-f4f5-4773-a889-87e24d9b1990",
   "metadata": {},
   "outputs": [
    {
     "data": {
      "text/plain": [
       "249"
      ]
     },
     "execution_count": 181,
     "metadata": {},
     "output_type": "execute_result"
    }
   ],
   "source": [
    "sum([1 for x in range(1,10000) if lychit(x)])"
   ]
  },
  {
   "cell_type": "markdown",
   "id": "92747f37-924b-46d9-b29b-4bf6f3322eab",
   "metadata": {},
   "source": [
    "##  Number spiral diagonals\n",
    "\n",
    "<p>Starting with the number 1 and moving to the right in a clockwise direction a 5 by 5 spiral is formed as follows:</p>\n",
    "<p class=\"monospace center\"><span class=\"red\"><b>21</b></span> 22 23 24 <span class=\"red\"><b>25</b></span><br />\n",
    "20  <span class=\"red\"><b>7</b></span>  8  <span class=\"red\"><b>9</b></span> 10<br />\n",
    "19  6  <span class=\"red\"><b>1</b></span>  2 11<br />\n",
    "18  <span class=\"red\"><b>5</b></span>  4  <span class=\"red\"><b>3</b></span> 12<br /><span class=\"red\"><b>17</b></span> 16 15 14 <span class=\"red\"><b>13</b></span></p>\n",
    "<p>It can be verified that the sum of the numbers on the diagonals is 101.</p>\n",
    "<p>What is the sum of the numbers on the diagonals in a 1001 by 1001 spiral formed in the same way?</p>\n"
   ]
  },
  {
   "cell_type": "code",
   "execution_count": 187,
   "id": "fe3cfa9e-b0f5-4a12-bbfb-bebe7ef9d2b3",
   "metadata": {},
   "outputs": [
    {
     "name": "stdout",
     "output_type": "stream",
     "text": [
      "669171001\n"
     ]
    }
   ],
   "source": [
    "s = 1\n",
    "n = 1\n",
    "counter = 2\n",
    "while n < 1001**2:\n",
    "    for i in range(4):\n",
    "        n += counter\n",
    "        s += n\n",
    "    counter += 2\n",
    "print(s)"
   ]
  },
  {
   "cell_type": "markdown",
   "id": "d18859ce-df62-4c4d-82e3-ab08050c32e6",
   "metadata": {},
   "source": [
    "##  Passcode derivation\n",
    "\n",
    "<p>A common security method used for online banking is to ask the user for three random characters from a passcode. For example, if the passcode was 531278, they may ask for the 2nd, 3rd, and 5th characters; the expected reply would be: 317.</p>\n",
    "<p>The text file, <a href=\"project/resources/p079_keylog.txt\">keylog.txt</a>, contains fifty successful login attempts.</p>\n",
    "<p>Given that the three characters are always asked for in order, analyse the file so as to determine the shortest possible secret passcode of unknown length.</p>\n"
   ]
  },
  {
   "cell_type": "code",
   "execution_count": 241,
   "id": "c1f386b1-fa5a-4f81-9536-a29a2a9da9d4",
   "metadata": {},
   "outputs": [
    {
     "data": {
      "text/plain": [
       "{'0', '1', '2', '3', '6', '7', '8', '9'}"
      ]
     },
     "execution_count": 241,
     "metadata": {},
     "output_type": "execute_result"
    }
   ],
   "source": [
    "f = open(\"keylog.txt\", \"r\", encoding=\"utf-8\")\n",
    "text = f.read()\n",
    "f.close()   \n",
    "\n",
    "text = text.split(\"\\n\")[:-1]\n",
    "nums = {x for num in text for x in num}\n",
    "nums"
   ]
  },
  {
   "cell_type": "code",
   "execution_count": 242,
   "id": "387579e4-7e58-4cce-abb0-0c479b3e473f",
   "metadata": {},
   "outputs": [],
   "source": [
    "firstcands = {num[0] for num in text}\n",
    "seccands = {num[1] for num in text} #не могут быть первыми\n",
    "thirdcands = {num[2] for num in text} #не могут быть первыми и вторыми"
   ]
  },
  {
   "cell_type": "code",
   "execution_count": 243,
   "id": "9dc54335-5b8d-4456-ad04-b61b0b23543d",
   "metadata": {},
   "outputs": [
    {
     "data": {
      "text/plain": [
       "{'7'}"
      ]
     },
     "execution_count": 243,
     "metadata": {},
     "output_type": "execute_result"
    }
   ],
   "source": [
    "firstcands = {num for num in firstcands if (num not in thirdcands and num not in seccands)}\n",
    "firstcands"
   ]
  },
  {
   "cell_type": "code",
   "execution_count": 210,
   "id": "df010ba1-5a62-4d1d-9bbf-6a7c1ca12678",
   "metadata": {},
   "outputs": [
    {
     "data": {
      "text/plain": [
       "{'3'}"
      ]
     },
     "execution_count": 210,
     "metadata": {},
     "output_type": "execute_result"
    }
   ],
   "source": [
    "seccands = {num for num in seccands if num not in thirdcands}\n",
    "seccands"
   ]
  },
  {
   "cell_type": "code",
   "execution_count": 251,
   "id": "971f4682-522d-4aaa-bb8f-d61fffaeeced",
   "metadata": {},
   "outputs": [],
   "source": [
    "passcode = \"73\""
   ]
  },
  {
   "cell_type": "code",
   "execution_count": 212,
   "id": "32ed8c8b-d35b-4f77-b80d-cafa289dc829",
   "metadata": {},
   "outputs": [
    {
     "name": "stdout",
     "output_type": "stream",
     "text": [
      "['731', '736']\n"
     ]
    }
   ],
   "source": [
    "print([num for num in text if num.startswith(\"73\")])"
   ]
  },
  {
   "cell_type": "code",
   "execution_count": 245,
   "id": "54bf228b-5ff5-43f3-871d-cb25f1f76acc",
   "metadata": {},
   "outputs": [
    {
     "name": "stdout",
     "output_type": "stream",
     "text": [
      "['168', '160', '716', '316', '162', '162', '316', '716']\n",
      "[]\n"
     ]
    }
   ],
   "source": [
    "print([num for num in text if \"16\" in num])\n",
    "print([num for num in text if \"61\" in num])\n",
    "#сначала 1, потом 6"
   ]
  },
  {
   "cell_type": "code",
   "execution_count": 252,
   "id": "643d0a8c-7da9-4eb3-ba0b-b5358efcb196",
   "metadata": {},
   "outputs": [],
   "source": [
    "passcode += \"16\""
   ]
  },
  {
   "cell_type": "code",
   "execution_count": 248,
   "id": "f90e1078-5f86-48fb-9921-395b3c11f657",
   "metadata": {},
   "outputs": [
    {
     "name": "stdout",
     "output_type": "stream",
     "text": [
      "['680', '180', '690', '620', '710', '720', '710', '160', '710', '290', '680', '790', '680', '890', '760', '380']\n",
      "['319', '180', '129', '318', '710', '710', '168', '160', '716', '731', '316', '710', '719', '318', '162', '162', '718', '319', '319', '316', '319', '716']\n",
      "['129', '620', '762', '762', '720', '629', '729', '729', '729', '290', '162', '289', '162', '729', '362', '729', '728']\n",
      "['680', '180', '689', '318', '368', '168', '689', '680', '318', '389', '289', '718', '680', '890', '380', '728']\n"
     ]
    }
   ],
   "source": [
    "print([num for num in text if \"0\" in num])\n",
    "#0 после 1,2,3,6,7,8,9\n",
    "print([num for num in text if \"1\" in num])\n",
    "#1 после 3,7\n",
    "#1 перед 0,2,6,8,9\n",
    "print([num for num in text if \"2\" in num])\n",
    "#2 после 1,3,6,7\n",
    "#2 перед 0,8,9\n",
    "print([num for num in text if \"8\" in num])\n",
    "#8 перед 0,9"
   ]
  },
  {
   "cell_type": "code",
   "execution_count": 254,
   "id": "2b8ecdc9-a81e-468a-84b5-19eae9bfde0e",
   "metadata": {},
   "outputs": [
    {
     "data": {
      "text/plain": [
       "'731628902890'"
      ]
     },
     "execution_count": 254,
     "metadata": {},
     "output_type": "execute_result"
    }
   ],
   "source": [
    "passcode += \"2890\"\n",
    "passcode"
   ]
  }
 ],
 "metadata": {
  "kernelspec": {
   "display_name": "Python 3 (ipykernel)",
   "language": "python",
   "name": "python3"
  },
  "language_info": {
   "codemirror_mode": {
    "name": "ipython",
    "version": 3
   },
   "file_extension": ".py",
   "mimetype": "text/x-python",
   "name": "python",
   "nbconvert_exporter": "python",
   "pygments_lexer": "ipython3",
   "version": "3.9.7"
  }
 },
 "nbformat": 4,
 "nbformat_minor": 5
}
